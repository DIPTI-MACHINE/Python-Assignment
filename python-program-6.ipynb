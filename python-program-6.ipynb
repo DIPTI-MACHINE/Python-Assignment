{
 "cells": [
  {
   "cell_type": "markdown",
   "id": "6eefec3d",
   "metadata": {},
   "source": [
    "# Write a Python Program to Display Fibonacci Sequence Using Recursion?"
   ]
  },
  {
   "cell_type": "code",
   "execution_count": null,
   "id": "b2d687f0",
   "metadata": {},
   "outputs": [],
   "source": [
    "\n",
    "def fib(n):\n",
    "\n",
    "    a = 0\n",
    "    b = 1\n",
    "\n",
    "    if n == 1:\n",
    "        print(a)\n",
    "    elif n<0:\n",
    "        print(\"this is negative number\")\n",
    "\n",
    "    else:\n",
    "        print(a)\n",
    "        print(b)\n",
    "\n",
    "    for i in range(2,n):\n",
    "        c = a + b\n",
    "        a = b\n",
    "        b = c\n",
    "        \n",
    "        print(a+b)\n",
    "        \n",
    "\n",
    "fib(n=int(input(\"enter a number\")))"
   ]
  },
  {
   "cell_type": "markdown",
   "id": "c99b9da9",
   "metadata": {},
   "source": [
    "# Write a Python Program to Find Factorial of Number Using Recursion?"
   ]
  },
  {
   "cell_type": "code",
   "execution_count": null,
   "id": "10fd510a",
   "metadata": {},
   "outputs": [],
   "source": [
    "def facts(a):\n",
    "    f=1\n",
    "    if a==0:\n",
    "        print(\"factorial of 0 is 1\")\n",
    "        \n",
    "    elif a<0:\n",
    "        print(\"positive number\")\n",
    "        \n",
    "    else:\n",
    "        for x in range (1,a+1):\n",
    "            f=f*x\n",
    "        return f\n",
    "            \n",
    "         \n",
    "facts(5)\n"
   ]
  },
  {
   "cell_type": "code",
   "execution_count": 10,
   "id": "250ed830",
   "metadata": {},
   "outputs": [
    {
     "data": {
      "text/plain": [
       "24"
      ]
     },
     "execution_count": 10,
     "metadata": {},
     "output_type": "execute_result"
    }
   ],
   "source": [
    "\n",
    "def recur_factorial(n):\n",
    "   if n == 1:\n",
    "       return n\n",
    "   else:\n",
    "       return n*recur_factorial(n-1)\n",
    "         \n",
    "recur_factorial(4)\n",
    "    "
   ]
  },
  {
   "cell_type": "markdown",
   "id": "e2829fdf",
   "metadata": {},
   "source": [
    "# Write a Python Program to calculate your Body Mass Index?"
   ]
  },
  {
   "cell_type": "code",
   "execution_count": 13,
   "id": "6c9a5fb3",
   "metadata": {},
   "outputs": [
    {
     "name": "stdout",
     "output_type": "stream",
     "text": [
      "Input your height in Feet: 8.5\n",
      "Input your weight in Kilogram: 6.9\n",
      "Your body mass index is:  0.1\n"
     ]
    }
   ],
   "source": [
    "height = float(input(\"Input your height in Feet: \"))\n",
    "weight = float(input(\"Input your weight in Kilogram: \"))\n",
    "print(\"Your body mass index is: \", round(weight / (height * height), 1))"
   ]
  },
  {
   "cell_type": "markdown",
   "id": "4199f246",
   "metadata": {},
   "source": [
    "# Write a Python Program to calculate the natural logarithm of any number"
   ]
  },
  {
   "cell_type": "code",
   "execution_count": 14,
   "id": "b5e8f0c9",
   "metadata": {},
   "outputs": [
    {
     "name": "stdout",
     "output_type": "stream",
     "text": [
      "math.log(100.12) is  4.6063694665635735\n"
     ]
    }
   ],
   "source": [
    "import math  \n",
    "\n",
    "print (\"math.log(100.12) is \", math.log(100.12))"
   ]
  },
  {
   "cell_type": "markdown",
   "id": "d5bd30da",
   "metadata": {},
   "source": [
    "# Write a Python Program for cube sum of first n natural numbers?"
   ]
  },
  {
   "cell_type": "code",
   "execution_count": 19,
   "id": "4c7ffd61",
   "metadata": {},
   "outputs": [
    {
     "name": "stdout",
     "output_type": "stream",
     "text": [
      "enter n: 3\n",
      "sum of cubes of first 3 natural numbers:  36\n"
     ]
    }
   ],
   "source": [
    "def CubeSum(n):\n",
    "    s=0\n",
    "    for i in range(n+1):\n",
    "        s+=i**3\n",
    "    return s\n",
    "n=int(input(\"enter n: \"))\n",
    "print(\"sum of cubes of first {} natural numbers: \".format(n),CubeSum(n))"
   ]
  },
  {
   "cell_type": "code",
   "execution_count": 17,
   "id": "6a60189c",
   "metadata": {},
   "outputs": [
    {
     "data": {
      "text/plain": [
       "8"
      ]
     },
     "execution_count": 17,
     "metadata": {},
     "output_type": "execute_result"
    }
   ],
   "source": [
    "2**3"
   ]
  },
  {
   "cell_type": "code",
   "execution_count": null,
   "id": "214e6946",
   "metadata": {},
   "outputs": [],
   "source": []
  }
 ],
 "metadata": {
  "kernelspec": {
   "display_name": "Python 3 (ipykernel)",
   "language": "python",
   "name": "python3"
  },
  "language_info": {
   "codemirror_mode": {
    "name": "ipython",
    "version": 3
   },
   "file_extension": ".py",
   "mimetype": "text/x-python",
   "name": "python",
   "nbconvert_exporter": "python",
   "pygments_lexer": "ipython3",
   "version": "3.8.8"
  }
 },
 "nbformat": 4,
 "nbformat_minor": 5
}
