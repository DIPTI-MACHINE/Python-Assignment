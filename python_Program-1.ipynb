{
 "cells": [
  {
   "cell_type": "markdown",
   "id": "f839304e",
   "metadata": {},
   "source": [
    "# 1.\tWrite a Python program to print \"Hello Python\"?"
   ]
  },
  {
   "cell_type": "code",
   "execution_count": 1,
   "id": "96d304f3",
   "metadata": {},
   "outputs": [
    {
     "name": "stdout",
     "output_type": "stream",
     "text": [
      "Hello World\n"
     ]
    }
   ],
   "source": [
    "print(\"Hello World\")"
   ]
  },
  {
   "cell_type": "markdown",
   "id": "b296c36e",
   "metadata": {},
   "source": [
    "# 2.\tWrite a Python program to do arithmetical operations addition and division.?"
   ]
  },
  {
   "cell_type": "code",
   "execution_count": 3,
   "id": "c6014db1",
   "metadata": {},
   "outputs": [
    {
     "name": "stdout",
     "output_type": "stream",
     "text": [
      "12\n",
      "5.0\n"
     ]
    }
   ],
   "source": [
    "a=10\n",
    "b=2\n",
    "print(a+b)\n",
    "print(a/b)"
   ]
  },
  {
   "cell_type": "markdown",
   "id": "db82f890",
   "metadata": {},
   "source": [
    "# Write a Python program to find the area of a triangle?"
   ]
  },
  {
   "cell_type": "markdown",
   "id": "4281e98d",
   "metadata": {},
   "source": [
    "Area of a Triangle = A = ½ (b × h)"
   ]
  },
  {
   "cell_type": "code",
   "execution_count": 6,
   "id": "b7f4c0d7",
   "metadata": {},
   "outputs": [
    {
     "name": "stdout",
     "output_type": "stream",
     "text": [
      "25.0\n"
     ]
    }
   ],
   "source": [
    "b=10\n",
    "h=5\n",
    "print(1/2*b*h)"
   ]
  },
  {
   "cell_type": "markdown",
   "id": "b9542c89",
   "metadata": {},
   "source": [
    "# Write a Python program to swap two variables?"
   ]
  },
  {
   "cell_type": "code",
   "execution_count": 12,
   "id": "7caba53f",
   "metadata": {},
   "outputs": [
    {
     "name": "stdout",
     "output_type": "stream",
     "text": [
      "a = 6 b = 5\n"
     ]
    }
   ],
   "source": [
    "a=5\n",
    "b=6\n",
    "a,b=b,a\n",
    "print(\"a =\",a,\"b =\",b)"
   ]
  },
  {
   "cell_type": "code",
   "execution_count": 13,
   "id": "4696e7cc",
   "metadata": {},
   "outputs": [
    {
     "name": "stdout",
     "output_type": "stream",
     "text": [
      "Object `number` not found.\n"
     ]
    }
   ],
   "source": [
    "Write a Python program to generate a random number?"
   ]
  },
  {
   "cell_type": "markdown",
   "id": "dd2c7842",
   "metadata": {},
   "source": [
    "# Write a Python program to generate a random number"
   ]
  },
  {
   "cell_type": "code",
   "execution_count": 33,
   "id": "351d7e31",
   "metadata": {},
   "outputs": [
    {
     "name": "stdout",
     "output_type": "stream",
     "text": [
      "24\n"
     ]
    }
   ],
   "source": [
    "import random\n",
    "\n",
    "\n",
    "a=random.randrange(1,100)\n",
    "print(a)"
   ]
  },
  {
   "cell_type": "code",
   "execution_count": null,
   "id": "f4660997",
   "metadata": {},
   "outputs": [],
   "source": []
  },
  {
   "cell_type": "code",
   "execution_count": null,
   "id": "71bf0d21",
   "metadata": {},
   "outputs": [],
   "source": []
  }
 ],
 "metadata": {
  "kernelspec": {
   "display_name": "Python 3 (ipykernel)",
   "language": "python",
   "name": "python3"
  },
  "language_info": {
   "codemirror_mode": {
    "name": "ipython",
    "version": 3
   },
   "file_extension": ".py",
   "mimetype": "text/x-python",
   "name": "python",
   "nbconvert_exporter": "python",
   "pygments_lexer": "ipython3",
   "version": "3.8.8"
  }
 },
 "nbformat": 4,
 "nbformat_minor": 5
}
