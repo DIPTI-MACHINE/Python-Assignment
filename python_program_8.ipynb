{
 "cells": [
  {
   "cell_type": "markdown",
   "id": "643a233e",
   "metadata": {},
   "source": [
    "# Write a Python Program to Add Two Matrices?"
   ]
  },
  {
   "cell_type": "code",
   "execution_count": 6,
   "id": "b585c097",
   "metadata": {},
   "outputs": [],
   "source": [
    "a=[[1,2,3],\n",
    "  [3,4,5],\n",
    "  [9,0,11]]"
   ]
  },
  {
   "cell_type": "code",
   "execution_count": 8,
   "id": "0dab6a47",
   "metadata": {},
   "outputs": [],
   "source": [
    "b=[[4,5,3],\n",
    "   [54,3,2],\n",
    "   [45,2,5]]"
   ]
  },
  {
   "cell_type": "code",
   "execution_count": 10,
   "id": "60ed7617",
   "metadata": {},
   "outputs": [],
   "source": [
    "c=[[0,0,0],[0,0,0],[0,0,0]]"
   ]
  },
  {
   "cell_type": "code",
   "execution_count": 34,
   "id": "f836bcb2",
   "metadata": {},
   "outputs": [
    {
     "name": "stdout",
     "output_type": "stream",
     "text": [
      "[4, 10, 9]\n",
      "[162, 12, 10]\n",
      "[405, 0, 55]\n"
     ]
    }
   ],
   "source": [
    "for i in range(len(a)):\n",
    "    for j in range(len(a[0])):\n",
    "        c[i][j]=a[i][j]+b[i][j]\n",
    "for k in c:\n",
    "    print(k)\n",
    "        \n",
    "        "
   ]
  },
  {
   "cell_type": "markdown",
   "id": "0eec0ac9",
   "metadata": {},
   "source": [
    "# Write a Python Program to Multiply Two Matrices?"
   ]
  },
  {
   "cell_type": "code",
   "execution_count": 35,
   "id": "0d607e8d",
   "metadata": {},
   "outputs": [
    {
     "name": "stdout",
     "output_type": "stream",
     "text": [
      "[4, 10, 9]\n",
      "[162, 12, 10]\n",
      "[405, 0, 55]\n"
     ]
    }
   ],
   "source": [
    "for i in range(len(a)):\n",
    "    for j in range(len(a[0])):\n",
    "        c[i][j]=a[i][j]*b[i][j]\n",
    "for k in c:\n",
    "    print(k)\n",
    "        "
   ]
  },
  {
   "cell_type": "markdown",
   "id": "32fb5385",
   "metadata": {},
   "source": [
    "# Write a Python Program to Transpose a Matrix"
   ]
  },
  {
   "cell_type": "code",
   "execution_count": 36,
   "id": "a9f37f86",
   "metadata": {},
   "outputs": [
    {
     "name": "stdout",
     "output_type": "stream",
     "text": [
      "[1, 3, 9]\n",
      "[2, 4, 0]\n",
      "[3, 5, 11]\n"
     ]
    }
   ],
   "source": [
    "for i in range(len(a)):\n",
    "    for j in range(len(a[0])):\n",
    "        c[j][i]=a[i][j]\n",
    "for k in c:\n",
    "    print(k)"
   ]
  },
  {
   "cell_type": "markdown",
   "id": "881dbb46",
   "metadata": {},
   "source": [
    "# Write a Python Program to Sort Words in Alphabetic Order?"
   ]
  },
  {
   "cell_type": "code",
   "execution_count": 46,
   "id": "996c95af",
   "metadata": {},
   "outputs": [
    {
     "name": "stdout",
     "output_type": "stream",
     "text": [
      "a\n",
      "and\n",
      "here\n",
      "i\n",
      "is\n",
      "play\n",
      "statement\n",
      "test\n",
      "this\n",
      "to\n",
      "want\n"
     ]
    }
   ],
   "source": [
    "str=\"this is a test statement and i want to play here\"\n",
    "\n",
    "word=str.split()\n",
    "word.sort()\n",
    "for val in word:\n",
    "    print(val)"
   ]
  },
  {
   "cell_type": "markdown",
   "id": "15ee2294",
   "metadata": {},
   "source": [
    "# Write a Python Program to Remove Punctuation From a String\n"
   ]
  },
  {
   "cell_type": "code",
   "execution_count": 53,
   "id": "07e18f88",
   "metadata": {},
   "outputs": [
    {
     "name": "stdout",
     "output_type": "stream",
     "text": [
      "hey  there this is punc remove\n"
     ]
    }
   ],
   "source": [
    "punctuations = '''!()-[]{};:'\"\\,<>./?@#$%^&*_~'''\n",
    "\n",
    "sent=\"hey{  there:} this is punc!!! remove@#\"\n",
    "\n",
    "my_punc=\"\"\n",
    "for char in sent:\n",
    "    if char not in punctuations:\n",
    "        my_punc=my_punc+char\n",
    "print(my_punc)"
   ]
  },
  {
   "cell_type": "code",
   "execution_count": null,
   "id": "85d39560",
   "metadata": {},
   "outputs": [],
   "source": []
  }
 ],
 "metadata": {
  "kernelspec": {
   "display_name": "Python 3 (ipykernel)",
   "language": "python",
   "name": "python3"
  },
  "language_info": {
   "codemirror_mode": {
    "name": "ipython",
    "version": 3
   },
   "file_extension": ".py",
   "mimetype": "text/x-python",
   "name": "python",
   "nbconvert_exporter": "python",
   "pygments_lexer": "ipython3",
   "version": "3.8.8"
  }
 },
 "nbformat": 4,
 "nbformat_minor": 5
}
