{
 "cells": [
  {
   "cell_type": "markdown",
   "id": "cd502b98",
   "metadata": {},
   "source": [
    "# What are the two values of the Boolean data type? How do you write them?"
   ]
  },
  {
   "cell_type": "markdown",
   "id": "b188eabd",
   "metadata": {},
   "source": [
    "True and False"
   ]
  },
  {
   "cell_type": "markdown",
   "id": "43eeceb7",
   "metadata": {},
   "source": [
    "# What are the three different types of Boolean operators?"
   ]
  },
  {
   "cell_type": "markdown",
   "id": "c6f0eb78",
   "metadata": {},
   "source": [
    "AND, OR,NOT"
   ]
  },
  {
   "cell_type": "markdown",
   "id": "9cb5e886",
   "metadata": {},
   "source": [
    "# What are the values of the following expressions?"
   ]
  },
  {
   "cell_type": "code",
   "execution_count": 9,
   "id": "6c9173dd",
   "metadata": {},
   "outputs": [
    {
     "data": {
      "text/plain": [
       "False"
      ]
     },
     "execution_count": 9,
     "metadata": {},
     "output_type": "execute_result"
    }
   ],
   "source": [
    "(5 > 4) and (3 == 5)"
   ]
  },
  {
   "cell_type": "code",
   "execution_count": 10,
   "id": "624a3eb5",
   "metadata": {},
   "outputs": [
    {
     "data": {
      "text/plain": [
       "False"
      ]
     },
     "execution_count": 10,
     "metadata": {},
     "output_type": "execute_result"
    }
   ],
   "source": [
    "not (5 > 4)"
   ]
  },
  {
   "cell_type": "code",
   "execution_count": 11,
   "id": "2d238cc7",
   "metadata": {},
   "outputs": [
    {
     "data": {
      "text/plain": [
       "True"
      ]
     },
     "execution_count": 11,
     "metadata": {},
     "output_type": "execute_result"
    }
   ],
   "source": [
    "(5 > 4) or (3 == 5)"
   ]
  },
  {
   "cell_type": "code",
   "execution_count": 12,
   "id": "42e26ac9",
   "metadata": {},
   "outputs": [
    {
     "data": {
      "text/plain": [
       "False"
      ]
     },
     "execution_count": 12,
     "metadata": {},
     "output_type": "execute_result"
    }
   ],
   "source": [
    "not ((5 > 4) or (3 == 5))"
   ]
  },
  {
   "cell_type": "code",
   "execution_count": 13,
   "id": "40721de7",
   "metadata": {},
   "outputs": [
    {
     "data": {
      "text/plain": [
       "False"
      ]
     },
     "execution_count": 13,
     "metadata": {},
     "output_type": "execute_result"
    }
   ],
   "source": [
    "(True and True) and (True == False)"
   ]
  },
  {
   "cell_type": "code",
   "execution_count": 14,
   "id": "6f771e30",
   "metadata": {},
   "outputs": [
    {
     "data": {
      "text/plain": [
       "True"
      ]
     },
     "execution_count": 14,
     "metadata": {},
     "output_type": "execute_result"
    }
   ],
   "source": [
    "(not False) or (not True)"
   ]
  },
  {
   "cell_type": "markdown",
   "id": "b978d16e",
   "metadata": {},
   "source": [
    "# What are the six comparison operators?"
   ]
  },
  {
   "cell_type": "markdown",
   "id": "f5754936",
   "metadata": {},
   "source": [
    "=,<,>,=!,<=,>="
   ]
  },
  {
   "cell_type": "markdown",
   "id": "26ca9e08",
   "metadata": {},
   "source": [
    "# How do you tell the difference between the equal to and assignment operators?Describe a condition and when you would use one."
   ]
  },
  {
   "cell_type": "markdown",
   "id": "a7bcbcdd",
   "metadata": {},
   "source": [
    "a=5\n",
    "5 is assigned to the variable a ,in memory the value of a is 5 now\n",
    "\n",
    "a==5\n",
    "\n",
    "This means a value is equal to 5 \n",
    "EX:5==6 is False whereas 5==5 is True"
   ]
  },
  {
   "cell_type": "markdown",
   "id": "11ae0a33",
   "metadata": {},
   "source": [
    "# Identify the three blocks in this code:"
   ]
  },
  {
   "cell_type": "markdown",
   "id": "186062fa",
   "metadata": {},
   "source": [
    "spam = 0\n",
    "if spam == 10:\n",
    "print('eggs')\n",
    "#block1\n",
    "\n",
    "if spam > 5:\n",
    "print('bacon')\n",
    "#block2\n",
    "\n",
    "else:\n",
    "print('ham')\n",
    "print('spam')\n",
    "print('spam')\n",
    "#block3\n"
   ]
  },
  {
   "cell_type": "markdown",
   "id": "b4f89e05",
   "metadata": {},
   "source": [
    "Write code that prints Hello if 1 is stored in spam,\n",
    "prints Howdy if 2 is stored in spam, \n",
    "and prints Greetings! if anything else is stored in spam."
   ]
  },
  {
   "cell_type": "code",
   "execution_count": 35,
   "id": "d69013cc",
   "metadata": {},
   "outputs": [
    {
     "name": "stdout",
     "output_type": "stream",
     "text": [
      "0\n",
      "Greetings\n"
     ]
    }
   ],
   "source": [
    "spam=int(input())\n",
    "if spam==1:\n",
    " print(\"Hello\")\n",
    "elif  spam==2:\n",
    "    print(\"Howdy\")\n",
    "else:\n",
    "    print(\"Greetings\")"
   ]
  },
  {
   "cell_type": "markdown",
   "id": "ff481697",
   "metadata": {},
   "source": [
    "# If your programme is stuck in an endless loop, what keys you’ll press?"
   ]
  },
  {
   "cell_type": "markdown",
   "id": "1c06779f",
   "metadata": {},
   "source": [
    "CTRL+C"
   ]
  },
  {
   "cell_type": "markdown",
   "id": "3ea32752",
   "metadata": {},
   "source": [
    "# How can you tell the difference between break and continue?"
   ]
  },
  {
   "cell_type": "markdown",
   "id": "78fe51ca",
   "metadata": {},
   "source": [
    " A break statement stops the loop in which the statement is placed.\n",
    "continue statement skips a single iteration in a loop.\n"
   ]
  },
  {
   "cell_type": "markdown",
   "id": "c96ddfaa",
   "metadata": {},
   "source": [
    "# In a for loop, what is the difference between range(10), range(0, 10), and range(0, 10, 1)?"
   ]
  },
  {
   "cell_type": "markdown",
   "id": "c8938cc1",
   "metadata": {},
   "source": [
    "ALL SAME"
   ]
  },
  {
   "cell_type": "markdown",
   "id": "229a4225",
   "metadata": {},
   "source": [
    "# Write a short program that prints the numbers 1 to 10 using a for loop. Then write an equivalent program that prints the numbers 1 to 10 using a while loop."
   ]
  },
  {
   "cell_type": "code",
   "execution_count": null,
   "id": "99c34bcb",
   "metadata": {},
   "outputs": [],
   "source": [
    "for x in range(11):\n",
    "    print(x)\n",
    "    \n",
    "    "
   ]
  },
  {
   "cell_type": "code",
   "execution_count": null,
   "id": "57e205ac",
   "metadata": {},
   "outputs": [],
   "source": [
    "a=0\n",
    "while a<10 :\n",
    "    a=a+1\n",
    "    print(a)"
   ]
  },
  {
   "cell_type": "markdown",
   "id": "62226c6f",
   "metadata": {},
   "source": [
    "# If you had a function named bacon() inside a module named spam, how would you call it after importing spam?"
   ]
  },
  {
   "cell_type": "markdown",
   "id": "92ded550",
   "metadata": {},
   "source": [
    "spam.bacon()"
   ]
  }
 ],
 "metadata": {
  "kernelspec": {
   "display_name": "Python 3",
   "language": "python",
   "name": "python3"
  },
  "language_info": {
   "codemirror_mode": {
    "name": "ipython",
    "version": 3
   },
   "file_extension": ".py",
   "mimetype": "text/x-python",
   "name": "python",
   "nbconvert_exporter": "python",
   "pygments_lexer": "ipython3",
   "version": "3.8.8"
  }
 },
 "nbformat": 4,
 "nbformat_minor": 5
}
