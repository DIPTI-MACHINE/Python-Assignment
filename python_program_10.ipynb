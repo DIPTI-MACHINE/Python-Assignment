{
 "cells": [
  {
   "cell_type": "markdown",
   "id": "784fe4d3",
   "metadata": {},
   "source": [
    "# Write a Python program to find sum of elements in list"
   ]
  },
  {
   "cell_type": "code",
   "execution_count": 16,
   "id": "57bbe5f7",
   "metadata": {},
   "outputs": [
    {
     "name": "stdout",
     "output_type": "stream",
     "text": [
      "6035\n"
     ]
    }
   ],
   "source": [
    "l=[1,64,5425,545]\n",
    "a=0\n",
    "for x in range(len(l)):\n",
    "    a=a+l[x]\n",
    "print(a)\n",
    "    "
   ]
  },
  {
   "cell_type": "markdown",
   "id": "064ba374",
   "metadata": {},
   "source": [
    "# Write a Python program to Multiply all numbers in the list?"
   ]
  },
  {
   "cell_type": "code",
   "execution_count": 18,
   "id": "71e9bd51",
   "metadata": {},
   "outputs": [
    {
     "name": "stdout",
     "output_type": "stream",
     "text": [
      "189224000\n"
     ]
    }
   ],
   "source": [
    "l=[1,64,5425,545]\n",
    "a=1\n",
    "for x in range(len(l)):\n",
    "    a=a*l[x]\n",
    "print(a)"
   ]
  },
  {
   "cell_type": "markdown",
   "id": "31b2096b",
   "metadata": {},
   "source": [
    "# Write a Python program to find smallest number in a list?"
   ]
  },
  {
   "cell_type": "code",
   "execution_count": 24,
   "id": "d1dee463",
   "metadata": {},
   "outputs": [
    {
     "name": "stdout",
     "output_type": "stream",
     "text": [
      "-1\n"
     ]
    }
   ],
   "source": [
    "l=[50,1,0,-1,50]\n",
    "min=l[0]\n",
    "for x in range(len(l)):\n",
    "    if l[x]<min:\n",
    "        min=l[x]\n",
    "print(min)\n",
    "        "
   ]
  },
  {
   "cell_type": "markdown",
   "id": "897a196c",
   "metadata": {},
   "source": [
    "# Write a Python program to find largest number in a list?"
   ]
  },
  {
   "cell_type": "code",
   "execution_count": 6,
   "id": "dae4c0a8",
   "metadata": {},
   "outputs": [
    {
     "name": "stdout",
     "output_type": "stream",
     "text": [
      "100\n"
     ]
    }
   ],
   "source": [
    "l=[50,100,1,0,-1,50]\n",
    "max=l[0]\n",
    "for x in range(len(l)):\n",
    "    if l[x]>max:\n",
    "        min=l[x]\n",
    "print(min)"
   ]
  },
  {
   "cell_type": "markdown",
   "id": "8bef433a",
   "metadata": {},
   "source": [
    "# Write a Python program to find second largest number in a list?"
   ]
  },
  {
   "cell_type": "code",
   "execution_count": 39,
   "id": "471a7d84",
   "metadata": {},
   "outputs": [
    {
     "data": {
      "text/plain": [
       "50"
      ]
     },
     "execution_count": 39,
     "metadata": {},
     "output_type": "execute_result"
    }
   ],
   "source": [
    "p=[50,100,1,0,-1,50]\n",
    "p.sort()\n",
    "p[-2]"
   ]
  },
  {
   "cell_type": "markdown",
   "id": "6e303474",
   "metadata": {},
   "source": [
    "# Write a Python program to find N largest elements from a list?"
   ]
  },
  {
   "cell_type": "code",
   "execution_count": 43,
   "id": "d7ed4a90",
   "metadata": {},
   "outputs": [
    {
     "name": "stdout",
     "output_type": "stream",
     "text": [
      "enter an number3\n"
     ]
    },
    {
     "data": {
      "text/plain": [
       "736"
      ]
     },
     "execution_count": 43,
     "metadata": {},
     "output_type": "execute_result"
    }
   ],
   "source": [
    "c=[4,65,736,45]\n",
    "n_num=int(input(\"enter an number\"))\n",
    "c.sort()\n",
    "c[n_num]"
   ]
  },
  {
   "cell_type": "markdown",
   "id": "70b97054",
   "metadata": {},
   "source": [
    "# Write a Python program to print even numbers in a list?"
   ]
  },
  {
   "cell_type": "code",
   "execution_count": 4,
   "id": "fc0d9194",
   "metadata": {},
   "outputs": [
    {
     "name": "stdout",
     "output_type": "stream",
     "text": [
      "these are even numbers [2, 78, 4]\n"
     ]
    }
   ],
   "source": [
    "evens=[3,-5,2,78,4]\n",
    "lis=[]\n",
    "for x in evens:\n",
    "    if x%2==0:\n",
    "        lis.append(x)\n",
    "print(\"these are even numbers\",lis)\n",
    "       \n",
    "    \n",
    "        "
   ]
  },
  {
   "cell_type": "markdown",
   "id": "1ea5852f",
   "metadata": {},
   "source": [
    "# Write a Python program to print odd numbers in a List?"
   ]
  },
  {
   "cell_type": "code",
   "execution_count": 3,
   "id": "7ef35e26",
   "metadata": {},
   "outputs": [
    {
     "name": "stdout",
     "output_type": "stream",
     "text": [
      "these are odd numbers [-5]\n"
     ]
    }
   ],
   "source": [
    "odd=[-5,2,78,4]\n",
    "lis=[]\n",
    "for z in (odd):\n",
    "    if z%2!=0:\n",
    "        lis.append(z)\n",
    "print(\"these are odd numbers\",lis)\n",
    "\n",
    "\n",
    "       \n",
    "    "
   ]
  },
  {
   "cell_type": "markdown",
   "id": "f44926a0",
   "metadata": {},
   "source": [
    "# Write a Python program to Remove empty List from List?"
   ]
  },
  {
   "cell_type": "code",
   "execution_count": 8,
   "id": "2b0a8e94",
   "metadata": {},
   "outputs": [
    {
     "name": "stdout",
     "output_type": "stream",
     "text": [
      "[5, 6, [], 3, [], [], 9]\n"
     ]
    },
    {
     "data": {
      "text/plain": [
       "[5, 6, 3, 9]"
      ]
     },
     "execution_count": 8,
     "metadata": {},
     "output_type": "execute_result"
    }
   ],
   "source": [
    "test_list = [5, 6, [], 3, [], [], 9]\n",
    "print(str(test_list))\n",
    "[ x for x in test_list if x!=[]]"
   ]
  },
  {
   "cell_type": "markdown",
   "id": "af06cb41",
   "metadata": {},
   "source": [
    "# Write a Python program to Cloning or Copying a list?"
   ]
  },
  {
   "cell_type": "code",
   "execution_count": 11,
   "id": "2cbf563e",
   "metadata": {},
   "outputs": [
    {
     "name": "stdout",
     "output_type": "stream",
     "text": [
      "[3, 56, 443, 546]\n"
     ]
    }
   ],
   "source": [
    "test=[3,56,443,546,]\n",
    "pip=test[:]\n",
    "print(pip)"
   ]
  },
  {
   "cell_type": "markdown",
   "id": "40145a6c",
   "metadata": {},
   "source": [
    "# Write a Python program to Count occurrences of an element in a list?"
   ]
  },
  {
   "cell_type": "code",
   "execution_count": 3,
   "id": "5bf13849",
   "metadata": {},
   "outputs": [
    {
     "name": "stdout",
     "output_type": "stream",
     "text": [
      "enter the number to find the occurances3\n",
      "4\n"
     ]
    }
   ],
   "source": [
    "test=[3,3,4,5,3,3,56,443,546,]\n",
    "count=0\n",
    "search=int(input(\"enter the number to find the occurances\"))\n",
    "for x in test:\n",
    "    if x==search:\n",
    "        count+=1\n",
    "print(count)"
   ]
  },
  {
   "cell_type": "code",
   "execution_count": null,
   "id": "4afe2a67",
   "metadata": {},
   "outputs": [],
   "source": []
  }
 ],
 "metadata": {
  "kernelspec": {
   "display_name": "Python 3 (ipykernel)",
   "language": "python",
   "name": "python3"
  },
  "language_info": {
   "codemirror_mode": {
    "name": "ipython",
    "version": 3
   },
   "file_extension": ".py",
   "mimetype": "text/x-python",
   "name": "python",
   "nbconvert_exporter": "python",
   "pygments_lexer": "ipython3",
   "version": "3.8.8"
  }
 },
 "nbformat": 4,
 "nbformat_minor": 5
}
