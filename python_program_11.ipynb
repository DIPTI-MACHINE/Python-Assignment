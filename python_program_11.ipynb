{
 "cells": [
  {
   "cell_type": "markdown",
   "id": "40633d52",
   "metadata": {},
   "source": [
    "# Write a Python program to find words which are greater than given length k?"
   ]
  },
  {
   "cell_type": "code",
   "execution_count": 6,
   "id": "30f8fe92",
   "metadata": {},
   "outputs": [
    {
     "name": "stdout",
     "output_type": "stream",
     "text": [
      "enter s number2\n"
     ]
    },
    {
     "data": {
      "text/plain": [
       "['this', 'laptop', 'asus']"
      ]
     },
     "execution_count": 6,
     "metadata": {},
     "output_type": "execute_result"
    }
   ],
   "source": [
    "def findstring(k,word):\n",
    "    string=[]\n",
    "    val=word.split(\" \")\n",
    "    for txt in val:\n",
    "        if len(txt)>k:\n",
    "            string.append(txt)\n",
    "    return string\n",
    "k=int(input(\"enter a number \"))\n",
    "word=\"this is laptop of asus\"\n",
    "findstring(k,word)\n",
    "        "
   ]
  },
  {
   "cell_type": "markdown",
   "id": "56219711",
   "metadata": {},
   "source": [
    "# Write a Python program for removing i-th character from a string?"
   ]
  },
  {
   "cell_type": "code",
   "execution_count": 8,
   "id": "81920324",
   "metadata": {},
   "outputs": [
    {
     "data": {
      "text/plain": [
       "'thisiasuslaptop'"
      ]
     },
     "execution_count": 8,
     "metadata": {},
     "output_type": "execute_result"
    }
   ],
   "source": [
    "def remove(string,i):\n",
    "    a=string[:i]\n",
    "    b=string[1+i:]\n",
    "    return a+b\n",
    "string=\"thisisasuslaptop\"\n",
    "i=5\n",
    "remove(string,i)"
   ]
  },
  {
   "cell_type": "markdown",
   "id": "67af74c0",
   "metadata": {},
   "source": [
    "# Write a Python program to split and join a string?"
   ]
  },
  {
   "cell_type": "code",
   "execution_count": 38,
   "id": "c14849b3",
   "metadata": {},
   "outputs": [
    {
     "name": "stdout",
     "output_type": "stream",
     "text": [
      "['this', 'is', 'my', 'laptop']\n",
      "this-is-my-laptop\n"
     ]
    }
   ],
   "source": [
    "def splits(string):\n",
    "    fun=string.split(' ')\n",
    "    return fun\n",
    "    \n",
    "def joins(fun):\n",
    "    fun1= '-'.join(fun)\n",
    "    return fun1\n",
    "\n",
    "string=\"this is my laptop\"\n",
    "\n",
    "value=splits(string)\n",
    "print(value)\n",
    "\n",
    "joining=joins(value)\n",
    "print(joining)"
   ]
  },
  {
   "cell_type": "markdown",
   "id": "681a9a34",
   "metadata": {},
   "source": [
    "# Write a Python to check if a given string is binary string or not?"
   ]
  },
  {
   "cell_type": "code",
   "execution_count": 43,
   "id": "be0147e6",
   "metadata": {},
   "outputs": [
    {
     "name": "stdout",
     "output_type": "stream",
     "text": [
      "no\n"
     ]
    }
   ],
   "source": [
    "def bin(data):\n",
    "    \n",
    "    k=set(data)\n",
    "    l={\"1\",\"0\"}\n",
    "    \n",
    "    if l==k or k=={\"0\"} or k=={\"1\"}:\n",
    "        print(\"yes\")\n",
    "    else:\n",
    "        print(\"no\")\n",
    "        \n",
    "data=\"10101dat10\"\n",
    "bin(data)\n",
    "    "
   ]
  },
  {
   "cell_type": "markdown",
   "id": "aea73de6",
   "metadata": {},
   "source": [
    "# Write a Python program to find uncommon words from two Strings?"
   ]
  },
  {
   "cell_type": "code",
   "execution_count": 44,
   "id": "f7325de0",
   "metadata": {},
   "outputs": [
    {
     "name": "stdout",
     "output_type": "stream",
     "text": [
      "['hey', 'this', 'my', 'laptp', 'the', 'laptop', 'fromm', 'asus']\n"
     ]
    }
   ],
   "source": [
    "def words(s1, s2):\n",
    "\n",
    "    count = {}\n",
    "    \n",
    "    for word in s1.split():\n",
    "        count[word] = count.get(word, 0) + 1\n",
    "    \n",
    "    for word in s2.split():\n",
    "        count[word] = count.get(word, 0) + 1\n",
    "    \n",
    "    return [word for word in count if count[word] == 1]\n",
    "\n",
    "s1=\"hey this is my laptp\"\n",
    "s2=\"the laptop is from asus\"\n",
    "  \n",
    "print(words(s1, s2))"
   ]
  },
  {
   "cell_type": "markdown",
   "id": "ae6550f5",
   "metadata": {},
   "source": [
    "# Write a Python to find all duplicate characters in string?"
   ]
  },
  {
   "cell_type": "code",
   "execution_count": null,
   "id": "5b6b2c99",
   "metadata": {},
   "outputs": [],
   "source": []
  },
  {
   "cell_type": "code",
   "execution_count": 60,
   "id": "60b9feb1",
   "metadata": {},
   "outputs": [
    {
     "name": "stdout",
     "output_type": "stream",
     "text": [
      "['s', 'u']\n"
     ]
    }
   ],
   "source": [
    "\n",
    "string = \"asuszephyrusg14\"\n",
    "\n",
    "duplicates = []\n",
    "for char in string:\n",
    "\n",
    "   if string.count(char) > 1:\n",
    "\n",
    "       if char not in duplicates:\n",
    "           duplicates.append(char)\n",
    "print(duplicates)"
   ]
  },
  {
   "cell_type": "markdown",
   "id": "4d77c1be",
   "metadata": {},
   "source": [
    "# Write a Python Program to check if a string contains any special character?"
   ]
  },
  {
   "cell_type": "code",
   "execution_count": 64,
   "id": "6c36ea57",
   "metadata": {},
   "outputs": [
    {
     "name": "stdout",
     "output_type": "stream",
     "text": [
      "String is does not have a ny spl character\n"
     ]
    }
   ],
   "source": [
    "\n",
    "import re\n",
    "\n",
    "\n",
    "def run(string):\n",
    "    regex = re.compile('[@_!#$%^&*()<>?/\\|}{~:]')\n",
    "\n",
    "\n",
    "\n",
    "    if(regex.search(string) == None):\n",
    "        print(\"String is does not have a ny spl character\")\n",
    "\n",
    "    else:\n",
    "        print(\"String contains spl character.\")\n",
    "\n",
    "\n",
    "\n",
    "    string = \"chennaisuperkings\"\n",
    "\n",
    "run(string)\n"
   ]
  },
  {
   "cell_type": "code",
   "execution_count": null,
   "id": "eae01e3b",
   "metadata": {},
   "outputs": [],
   "source": []
  }
 ],
 "metadata": {
  "kernelspec": {
   "display_name": "Python 3 (ipykernel)",
   "language": "python",
   "name": "python3"
  },
  "language_info": {
   "codemirror_mode": {
    "name": "ipython",
    "version": 3
   },
   "file_extension": ".py",
   "mimetype": "text/x-python",
   "name": "python",
   "nbconvert_exporter": "python",
   "pygments_lexer": "ipython3",
   "version": "3.8.8"
  }
 },
 "nbformat": 4,
 "nbformat_minor": 5
}
