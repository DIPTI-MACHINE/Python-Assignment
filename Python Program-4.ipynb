{
 "cells": [
  {
   "cell_type": "markdown",
   "id": "4e8ca412",
   "metadata": {},
   "source": [
    "# 1.\tWrite a Python Program to Find the Factorial of a Number?"
   ]
  },
  {
   "cell_type": "code",
   "execution_count": 1,
   "id": "af8aa777",
   "metadata": {},
   "outputs": [
    {
     "name": "stdout",
     "output_type": "stream",
     "text": [
      "enter a  positive number 7\n",
      "5040\n"
     ]
    }
   ],
   "source": [
    "try:\n",
    "    \n",
    "    a=int(input(\"enter a  positive number \"))\n",
    "\n",
    "    fact=1\n",
    "    for x in range(1,a+1):\n",
    "        fact=fact*x\n",
    "    print(fact)\n",
    "\n",
    "except ValueError:\n",
    "    print(\"this is not a valid key\")\n"
   ]
  },
  {
   "cell_type": "markdown",
   "id": "bd304379",
   "metadata": {},
   "source": [
    "# Write a Python Program to Display the multiplication Table?"
   ]
  },
  {
   "cell_type": "code",
   "execution_count": 2,
   "id": "550d7764",
   "metadata": {},
   "outputs": [
    {
     "name": "stdout",
     "output_type": "stream",
     "text": [
      "type a number 6\n",
      "6 * 1 is 6\n",
      "6 * 2 is 12\n",
      "6 * 3 is 18\n",
      "6 * 4 is 24\n",
      "6 * 5 is 30\n",
      "6 * 6 is 36\n",
      "6 * 7 is 42\n",
      "6 * 8 is 48\n",
      "6 * 9 is 54\n",
      "6 * 10 is 60\n"
     ]
    }
   ],
   "source": [
    "\n",
    "num=int(input(\"type a number \"))\n",
    "\n",
    "for x in range(1,11):\n",
    "    z=num*x\n",
    "    print( num, \"*\" ,x, \"is\", z )\n",
    "   "
   ]
  },
  {
   "cell_type": "markdown",
   "id": "6207ddf4",
   "metadata": {},
   "source": [
    "# Write a Python Program to Print the Fibonacci sequence"
   ]
  },
  {
   "cell_type": "code",
   "execution_count": 5,
   "id": "bfad1b6b",
   "metadata": {},
   "outputs": [
    {
     "name": "stdout",
     "output_type": "stream",
     "text": [
      "enter a number13\n",
      "0\n",
      "1\n",
      "1\n",
      "2\n",
      "3\n",
      "5\n",
      "8\n",
      "13\n",
      "21\n",
      "34\n",
      "55\n",
      "89\n",
      "144\n"
     ]
    }
   ],
   "source": [
    "n=int(input(\"enter a number\"))\n",
    "\n",
    "count=0\n",
    "n1=0\n",
    "n2=1\n",
    "\n",
    "if n<=0:\n",
    "    print(\"please enter  valid number\")\n",
    "elif n==1: \n",
    "    print (\"The Fibonacci sequence of the numbers up to\", n, \": \")  \n",
    "    print(n1)\n",
    "else:\n",
    "    while count<n:\n",
    "        print(n1)\n",
    "        tot=n1+n2\n",
    "        n1=n2\n",
    "        n2=tot\n",
    "        count+=1\n",
    "        "
   ]
  },
  {
   "cell_type": "code",
   "execution_count": null,
   "id": "a4d96f23",
   "metadata": {},
   "outputs": [],
   "source": [
    "Write a Python Program to Check Armstrong Number"
   ]
  },
  {
   "cell_type": "code",
   "execution_count": 14,
   "id": "7683d55f",
   "metadata": {},
   "outputs": [
    {
     "name": "stdout",
     "output_type": "stream",
     "text": [
      "Enter a number: 407\n",
      "407 is an Armstrong number\n"
     ]
    }
   ],
   "source": [
    "\n",
    "num = int(input(\"Enter a number: \"))\n",
    "\n",
    "\n",
    "sum = 0\n",
    "temp = num\n",
    "while temp > 0:\n",
    "   digit = temp % 10\n",
    "   sum += digit ** 3\n",
    "   temp //= 10\n",
    "\n",
    "\n",
    "if num == sum:\n",
    "   print(num,\"is an Armstrong number\")\n",
    "else:\n",
    "   print(num,\"is not an Armstrong number\")"
   ]
  },
  {
   "cell_type": "code",
   "execution_count": 15,
   "id": "56e81d3e",
   "metadata": {},
   "outputs": [
    {
     "data": {
      "text/plain": [
       "7"
      ]
     },
     "execution_count": 15,
     "metadata": {},
     "output_type": "execute_result"
    }
   ],
   "source": [
    "407%10"
   ]
  },
  {
   "cell_type": "code",
   "execution_count": 12,
   "id": "fd8e8ff0",
   "metadata": {},
   "outputs": [
    {
     "data": {
      "text/plain": [
       "0"
      ]
     },
     "execution_count": 12,
     "metadata": {},
     "output_type": "execute_result"
    }
   ],
   "source": [
    "5//10"
   ]
  },
  {
   "cell_type": "code",
   "execution_count": 16,
   "id": "6c7261cc",
   "metadata": {},
   "outputs": [
    {
     "data": {
      "text/plain": [
       "343"
      ]
     },
     "execution_count": 16,
     "metadata": {},
     "output_type": "execute_result"
    }
   ],
   "source": [
    "7**3"
   ]
  },
  {
   "cell_type": "markdown",
   "id": "d136cee8",
   "metadata": {},
   "source": [
    "# Write a Python Program to Find Armstrong Number in an Interval"
   ]
  },
  {
   "cell_type": "code",
   "execution_count": 18,
   "id": "814bdfc8",
   "metadata": {},
   "outputs": [
    {
     "name": "stdout",
     "output_type": "stream",
     "text": [
      "153\n",
      "370\n",
      "371\n",
      "407\n"
     ]
    }
   ],
   "source": [
    "lower = 10\n",
    "upper = 1000\n",
    "\n",
    "for num in range(lower, upper + 1):\n",
    "\n",
    "   order = len(str(num))\n",
    "   sum = 0\n",
    "\n",
    "   temp = num\n",
    "   while temp > 0:\n",
    "       digit = temp % 10\n",
    "       sum += digit ** order\n",
    "       temp //= 10\n",
    "\n",
    "   if num == sum:\n",
    "       print(num)"
   ]
  },
  {
   "cell_type": "code",
   "execution_count": null,
   "id": "2c6679eb",
   "metadata": {},
   "outputs": [],
   "source": []
  },
  {
   "cell_type": "markdown",
   "id": "662b1397",
   "metadata": {},
   "source": [
    "# Write a Python Program to Find the Sum of Natural Numbers?"
   ]
  },
  {
   "cell_type": "code",
   "execution_count": 31,
   "id": "84e41825",
   "metadata": {},
   "outputs": [
    {
     "name": "stdout",
     "output_type": "stream",
     "text": [
      "enter an number3\n",
      "6\n"
     ]
    }
   ],
   "source": [
    "num=int(input(\"enter an number\"))\n",
    "sum=0\n",
    "if num<=0:\n",
    "    print(\"enter number greater than 0\")\n",
    "else:\n",
    "    for x in range(1,num+1):\n",
    "        sum=sum+x\n",
    "    print(sum)\n",
    "    "
   ]
  },
  {
   "cell_type": "code",
   "execution_count": null,
   "id": "30cc1fb4",
   "metadata": {},
   "outputs": [],
   "source": []
  }
 ],
 "metadata": {
  "kernelspec": {
   "display_name": "Python 3 (ipykernel)",
   "language": "python",
   "name": "python3"
  },
  "language_info": {
   "codemirror_mode": {
    "name": "ipython",
    "version": 3
   },
   "file_extension": ".py",
   "mimetype": "text/x-python",
   "name": "python",
   "nbconvert_exporter": "python",
   "pygments_lexer": "ipython3",
   "version": "3.8.8"
  }
 },
 "nbformat": 4,
 "nbformat_minor": 5
}
