{
 "cells": [
  {
   "cell_type": "markdown",
   "id": "181b9fef",
   "metadata": {},
   "source": [
    "# 1. Why are functions advantageous to have in your programs?"
   ]
  },
  {
   "cell_type": "markdown",
   "id": "dbdbb773",
   "metadata": {},
   "source": [
    "It helps to overcome code redudancy also we can use default functions to hide code implementation"
   ]
  },
  {
   "cell_type": "markdown",
   "id": "f290b857",
   "metadata": {},
   "source": [
    "# 2. When does the code in a function run: when it's specified or when it's called?"
   ]
  },
  {
   "cell_type": "markdown",
   "id": "cb7247ed",
   "metadata": {},
   "source": [
    "when it's called"
   ]
  },
  {
   "cell_type": "markdown",
   "id": "a9e171c0",
   "metadata": {},
   "source": [
    "# 3. What statement creates a function?"
   ]
  },
  {
   "cell_type": "markdown",
   "id": "15e24aad",
   "metadata": {},
   "source": [
    "def statement creates function, ex: def function_name"
   ]
  },
  {
   "cell_type": "markdown",
   "id": "2e1493f5",
   "metadata": {},
   "source": [
    "# 4. What is the difference between a function and a function call?"
   ]
  },
  {
   "cell_type": "markdown",
   "id": "33aac653",
   "metadata": {},
   "source": [
    " A function is something we create to achive a specific outcome and in order to achive that we have to call the function by the function name"
   ]
  },
  {
   "cell_type": "markdown",
   "id": "7ac1647f",
   "metadata": {},
   "source": [
    "# 5. How many global scopes are there in a Python program? How many local scopes?"
   ]
  },
  {
   "cell_type": "markdown",
   "id": "848fd4ea",
   "metadata": {},
   "source": [
    "There can be only 1 global scope in a program but can have multiple local scopes"
   ]
  },
  {
   "cell_type": "markdown",
   "id": "601bfe2d",
   "metadata": {},
   "source": [
    "# 6. What happens to variables in a local scope when the function call returns?"
   ]
  },
  {
   "cell_type": "markdown",
   "id": "4ce8e207",
   "metadata": {},
   "source": [
    "A local variable becomes undefined after the function call completes\n",
    "\n",
    "The local variable can be used outside the function any time after the function call completes."
   ]
  },
  {
   "cell_type": "markdown",
   "id": "0a1b825e",
   "metadata": {},
   "source": [
    "# 7. What is the concept of a return value? Is it possible to have a return value in an expression?"
   ]
  },
  {
   "cell_type": "markdown",
   "id": "4619ec5a",
   "metadata": {},
   "source": [
    "A return is a value that a function returns to the calling script or function when it completes its task.We can have a return value in an expression"
   ]
  },
  {
   "cell_type": "markdown",
   "id": "8fe67e29",
   "metadata": {},
   "source": [
    "# 8. If a function does not have a return statement, what is the return value of a call to that function?"
   ]
  },
  {
   "cell_type": "raw",
   "id": "53d647cf",
   "metadata": {},
   "source": [
    " it returns None "
   ]
  },
  {
   "cell_type": "markdown",
   "id": "a00af236",
   "metadata": {},
   "source": [
    "# 9. How do you make a function variable refer to the global variable?"
   ]
  },
  {
   "cell_type": "markdown",
   "id": "37f61826",
   "metadata": {},
   "source": [
    "you can use the global keyword."
   ]
  },
  {
   "cell_type": "markdown",
   "id": "4674724e",
   "metadata": {},
   "source": [
    "# 10. What is the data type of None?"
   ]
  },
  {
   "cell_type": "markdown",
   "id": "b9c89e3a",
   "metadata": {},
   "source": [
    "None is a datatype itself"
   ]
  },
  {
   "cell_type": "markdown",
   "id": "67f2d9eb",
   "metadata": {},
   "source": [
    "# 11. What does the sentence import areallyourpetsnamederic do?\n"
   ]
  },
  {
   "cell_type": "markdown",
   "id": "8fe78dbb",
   "metadata": {},
   "source": [
    " areallyourpetsnamederic is not a python module so this is gonna give an error"
   ]
  },
  {
   "cell_type": "markdown",
   "id": "cf443b3b",
   "metadata": {},
   "source": [
    "# 12. If you had a bacon() feature in a spam module, how would you call it after importing spam?"
   ]
  },
  {
   "cell_type": "markdown",
   "id": "9d73e02a",
   "metadata": {},
   "source": [
    "spam.bacon()"
   ]
  },
  {
   "cell_type": "markdown",
   "id": "f5a098ba",
   "metadata": {},
   "source": [
    "# 13. What can you do to save a programme from crashing if it encounters an error?"
   ]
  },
  {
   "cell_type": "markdown",
   "id": "15a36f50",
   "metadata": {},
   "source": [
    "we can use error handling to save the program from giving error and in this way we can avoid crashing"
   ]
  },
  {
   "cell_type": "markdown",
   "id": "31f9bc7d",
   "metadata": {},
   "source": [
    "# 14. What is the purpose of the try clause? What is the purpose of the except clause?"
   ]
  },
  {
   "cell_type": "markdown",
   "id": "f9bddd4c",
   "metadata": {},
   "source": [
    "The try block helps  you to test a block of code for errors. The except block enables you to handle the error with a user-defined response"
   ]
  },
  {
   "cell_type": "code",
   "execution_count": null,
   "id": "fc54438c",
   "metadata": {},
   "outputs": [],
   "source": []
  }
 ],
 "metadata": {
  "kernelspec": {
   "display_name": "Python 3",
   "language": "python",
   "name": "python3"
  },
  "language_info": {
   "codemirror_mode": {
    "name": "ipython",
    "version": 3
   },
   "file_extension": ".py",
   "mimetype": "text/x-python",
   "name": "python",
   "nbconvert_exporter": "python",
   "pygments_lexer": "ipython3",
   "version": "3.8.8"
  }
 },
 "nbformat": 4,
 "nbformat_minor": 5
}
