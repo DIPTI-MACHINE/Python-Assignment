{
 "cells": [
  {
   "cell_type": "markdown",
   "id": "908ff9ec",
   "metadata": {},
   "source": [
    "# Write a Python Program to Check if a Number is Positive, Negative or Zero?"
   ]
  },
  {
   "cell_type": "code",
   "execution_count": 1,
   "id": "2885ca22",
   "metadata": {},
   "outputs": [
    {
     "name": "stdout",
     "output_type": "stream",
     "text": [
      "enter a number5\n",
      "it is positive\n"
     ]
    }
   ],
   "source": [
    "a=float(input(\"enter a number\"))\n",
    "if a<0:\n",
    "    print(\"it is negative\")\n",
    "elif a>0:\n",
    "    print(\"it is positive\")\n",
    "else:\n",
    "    print(\"it is zero\")\n"
   ]
  },
  {
   "cell_type": "markdown",
   "id": "f2fa9583",
   "metadata": {},
   "source": [
    "# Write a Python Program to Check if a Number is Odd or Even?"
   ]
  },
  {
   "cell_type": "code",
   "execution_count": 19,
   "id": "7f821f9e",
   "metadata": {},
   "outputs": [
    {
     "name": "stdout",
     "output_type": "stream",
     "text": [
      "enter a number56\n",
      "even  number\n"
     ]
    }
   ],
   "source": [
    "a=float(input(\"enter a number\"))\n",
    "\n",
    "if a%2==0:\n",
    "    print(\"even  number\")\n",
    "elif a==0:\n",
    "    print(\"it is zero,please give a new number\")\n",
    "    \n",
    "else:\n",
    "    print(\"odd number\")"
   ]
  },
  {
   "cell_type": "markdown",
   "id": "135b9b91",
   "metadata": {},
   "source": [
    "# Write a Python Program to Check Leap Year?"
   ]
  },
  {
   "cell_type": "code",
   "execution_count": 21,
   "id": "5aa1d04b",
   "metadata": {},
   "outputs": [
    {
     "name": "stdout",
     "output_type": "stream",
     "text": [
      "enter a year 2929\n",
      "Not Leap Year number\n"
     ]
    }
   ],
   "source": [
    "a=float(input(\"enter a year \"))\n",
    "\n",
    "if a<0 or a==0:\n",
    "    print(\"Not a valid year ,please enter valid year\")\n",
    "    \n",
    "elif a%4==0:\n",
    "    print(\"Leap year\")\n",
    "\n",
    "    \n",
    "else:\n",
    "    print(\"Not Leap Year number\")"
   ]
  },
  {
   "cell_type": "markdown",
   "id": "e2e59538",
   "metadata": {},
   "source": [
    "# Write a Python Program to Check Prime Number?"
   ]
  },
  {
   "cell_type": "code",
   "execution_count": 74,
   "id": "59f2c93c",
   "metadata": {},
   "outputs": [
    {
     "name": "stdout",
     "output_type": "stream",
     "text": [
      "enter a year -6\n",
      "Enter number greater than 1\n"
     ]
    }
   ],
   "source": [
    "try:\n",
    "    a=int(input(\"enter a year \"))\n",
    "except ValueError:\n",
    "    print(\"Enter valid number\")\n",
    "else:\n",
    "    \n",
    "    if a>1 and a!=0:\n",
    "        for x in range(2,a):\n",
    "            if (a%x==0):\n",
    "                print(\"it is not  prime number\")\n",
    "                break\n",
    "        else:\n",
    "            print(\"It is  prime number\")\n",
    "    else:\n",
    "        print(\"Enter number greater than 1\")\n",
    "\n",
    "    \n"
   ]
  },
  {
   "cell_type": "markdown",
   "id": "5d69ca5b",
   "metadata": {},
   "source": [
    "# Write a Python Program to Print all Prime Numbers in an Interval of 1-10000?"
   ]
  },
  {
   "cell_type": "code",
   "execution_count": 90,
   "id": "253e72fb",
   "metadata": {},
   "outputs": [
    {
     "name": "stdout",
     "output_type": "stream",
     "text": [
      "2\n",
      "3\n",
      "5\n",
      "7\n",
      "11\n",
      "13\n",
      "17\n",
      "19\n",
      "23\n",
      "29\n",
      "31\n",
      "37\n",
      "41\n",
      "43\n",
      "47\n",
      "53\n",
      "59\n",
      "61\n",
      "67\n",
      "71\n",
      "73\n",
      "79\n",
      "83\n",
      "89\n",
      "97\n",
      "101\n",
      "103\n",
      "107\n",
      "109\n",
      "113\n",
      "127\n",
      "131\n",
      "137\n",
      "139\n",
      "149\n",
      "151\n",
      "157\n",
      "163\n",
      "167\n",
      "173\n",
      "179\n",
      "181\n",
      "191\n",
      "193\n",
      "197\n",
      "199\n",
      "211\n",
      "223\n",
      "227\n",
      "229\n",
      "233\n",
      "239\n",
      "241\n",
      "251\n",
      "257\n",
      "263\n",
      "269\n",
      "271\n",
      "277\n",
      "281\n",
      "283\n",
      "293\n",
      "307\n",
      "311\n",
      "313\n",
      "317\n",
      "331\n",
      "337\n",
      "347\n",
      "349\n",
      "353\n",
      "359\n",
      "367\n",
      "373\n",
      "379\n",
      "383\n",
      "389\n",
      "397\n",
      "401\n",
      "409\n",
      "419\n",
      "421\n",
      "431\n",
      "433\n",
      "439\n",
      "443\n",
      "449\n",
      "457\n",
      "461\n",
      "463\n",
      "467\n",
      "479\n",
      "487\n",
      "491\n",
      "499\n",
      "503\n",
      "509\n",
      "521\n",
      "523\n",
      "541\n",
      "547\n",
      "557\n",
      "563\n",
      "569\n",
      "571\n",
      "577\n",
      "587\n",
      "593\n",
      "599\n",
      "601\n",
      "607\n",
      "613\n",
      "617\n",
      "619\n",
      "631\n",
      "641\n",
      "643\n",
      "647\n",
      "653\n",
      "659\n",
      "661\n",
      "673\n",
      "677\n",
      "683\n",
      "691\n",
      "701\n",
      "709\n",
      "719\n",
      "727\n",
      "733\n",
      "739\n",
      "743\n",
      "751\n",
      "757\n",
      "761\n",
      "769\n",
      "773\n",
      "787\n",
      "797\n",
      "809\n",
      "811\n",
      "821\n",
      "823\n",
      "827\n",
      "829\n",
      "839\n",
      "853\n",
      "857\n",
      "859\n",
      "863\n",
      "877\n",
      "881\n",
      "883\n",
      "887\n",
      "907\n",
      "911\n",
      "919\n",
      "929\n",
      "937\n",
      "941\n",
      "947\n",
      "953\n",
      "967\n",
      "971\n",
      "977\n",
      "983\n",
      "991\n",
      "997\n"
     ]
    }
   ],
   "source": [
    "\n",
    "for num in range(1, 1001):\n",
    "   \n",
    "   if num > 1:\n",
    "       for i in range(2, num):\n",
    "           if (num % i) == 0:\n",
    "               break\n",
    "       else:\n",
    "           print(num)\n",
    "    "
   ]
  },
  {
   "cell_type": "code",
   "execution_count": null,
   "id": "996aaa73",
   "metadata": {},
   "outputs": [],
   "source": []
  },
  {
   "cell_type": "code",
   "execution_count": null,
   "id": "995db4aa",
   "metadata": {},
   "outputs": [],
   "source": []
  }
 ],
 "metadata": {
  "kernelspec": {
   "display_name": "Python 3 (ipykernel)",
   "language": "python",
   "name": "python3"
  },
  "language_info": {
   "codemirror_mode": {
    "name": "ipython",
    "version": 3
   },
   "file_extension": ".py",
   "mimetype": "text/x-python",
   "name": "python",
   "nbconvert_exporter": "python",
   "pygments_lexer": "ipython3",
   "version": "3.8.8"
  }
 },
 "nbformat": 4,
 "nbformat_minor": 5
}
