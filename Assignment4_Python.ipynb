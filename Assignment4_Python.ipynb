{
 "cells": [
  {
   "cell_type": "markdown",
   "id": "aad37cad",
   "metadata": {},
   "source": [
    "# What exactly is []?"
   ]
  },
  {
   "cell_type": "markdown",
   "id": "f242c4bb",
   "metadata": {},
   "source": [
    "The empty list value, which is a list value that contains no items"
   ]
  },
  {
   "cell_type": "markdown",
   "id": "5bd720f0",
   "metadata": {},
   "source": [
    "# 2. In a list of values stored in a variable called spam, how would you assign the value 'hello' as the third value? (Assume [2, 4, 6, 8, 10] are in spam.)"
   ]
  },
  {
   "cell_type": "code",
   "execution_count": 2,
   "id": "10b739b2",
   "metadata": {},
   "outputs": [
    {
     "data": {
      "text/plain": [
       "[2, 4, 'hello', 8, 10]"
      ]
     },
     "execution_count": 2,
     "metadata": {},
     "output_type": "execute_result"
    }
   ],
   "source": [
    "spam=[2,4,6,8,10]\n",
    "spam[2]='hello'\n",
    "spam"
   ]
  },
  {
   "cell_type": "markdown",
   "id": "40970d34",
   "metadata": {},
   "source": [
    "# Let's pretend the spam includes the list ['a', 'b', 'c', 'd'] for the next three queries.\n"
   ]
  },
  {
   "cell_type": "markdown",
   "id": "2e84c034",
   "metadata": {},
   "source": [
    "# What is the value of spam[int(int('3' * 2) / 11)]?"
   ]
  },
  {
   "cell_type": "code",
   "execution_count": 3,
   "id": "9ff11f7e",
   "metadata": {},
   "outputs": [
    {
     "data": {
      "text/plain": [
       "'d'"
      ]
     },
     "execution_count": 3,
     "metadata": {},
     "output_type": "execute_result"
    }
   ],
   "source": [
    "spam=['a','b','c','d']\n",
    "spam[int(int('3'*2)/11)]"
   ]
  },
  {
   "cell_type": "markdown",
   "id": "f80f59ea",
   "metadata": {},
   "source": [
    "# What is the value of spam[-1]?"
   ]
  },
  {
   "cell_type": "code",
   "execution_count": 4,
   "id": "085518f6",
   "metadata": {},
   "outputs": [
    {
     "data": {
      "text/plain": [
       "'d'"
      ]
     },
     "execution_count": 4,
     "metadata": {},
     "output_type": "execute_result"
    }
   ],
   "source": [
    "spam[-1]"
   ]
  },
  {
   "cell_type": "markdown",
   "id": "2f6f6db9",
   "metadata": {},
   "source": [
    "# What is the value of spam[:2]?"
   ]
  },
  {
   "cell_type": "code",
   "execution_count": 5,
   "id": "3bb0ce06",
   "metadata": {},
   "outputs": [
    {
     "data": {
      "text/plain": [
       "['a', 'b']"
      ]
     },
     "execution_count": 5,
     "metadata": {},
     "output_type": "execute_result"
    }
   ],
   "source": [
    "spam[:2]"
   ]
  },
  {
   "cell_type": "markdown",
   "id": "2d3de019",
   "metadata": {},
   "source": [
    "# Let's pretend bacon has the list [3.14, 'cat,' 11, 'cat,' True] for the next three questions."
   ]
  },
  {
   "cell_type": "markdown",
   "id": "17543859",
   "metadata": {},
   "source": [
    "bacon=[3.14, 'cat,' 11, 'cat,' True]"
   ]
  },
  {
   "cell_type": "markdown",
   "id": "84d33eb7",
   "metadata": {},
   "source": [
    "# What is the value of bacon.index('cat')?\n"
   ]
  },
  {
   "cell_type": "markdown",
   "id": "05fc13ef",
   "metadata": {},
   "source": [
    "1"
   ]
  },
  {
   "cell_type": "markdown",
   "id": "e11a6733",
   "metadata": {},
   "source": [
    "# How does bacon.append(99) change the look of the list value in bacon?"
   ]
  },
  {
   "cell_type": "code",
   "execution_count": 9,
   "id": "9914e199",
   "metadata": {},
   "outputs": [],
   "source": [
    "bacon=[3.14, 'cat', 11, 'cat', True, 99]"
   ]
  },
  {
   "cell_type": "markdown",
   "id": "46e40bcc",
   "metadata": {},
   "source": [
    "# How does bacon.remove('cat') change the look of the list in bacon?"
   ]
  },
  {
   "cell_type": "code",
   "execution_count": 10,
   "id": "12eed411",
   "metadata": {},
   "outputs": [],
   "source": [
    "bacon.remove('cat')"
   ]
  },
  {
   "cell_type": "code",
   "execution_count": 11,
   "id": "ddaf5dc3",
   "metadata": {},
   "outputs": [
    {
     "data": {
      "text/plain": [
       "[3.14, 11, 'cat', True, 99]"
      ]
     },
     "execution_count": 11,
     "metadata": {},
     "output_type": "execute_result"
    }
   ],
   "source": [
    "bacon"
   ]
  },
  {
   "cell_type": "markdown",
   "id": "fceeda34",
   "metadata": {},
   "source": [
    "# What are the list concatenation and list replication operators?"
   ]
  },
  {
   "cell_type": "markdown",
   "id": "92c51bc3",
   "metadata": {},
   "source": [
    "The operator for list concatenation is +, while the operator for replication is *"
   ]
  },
  {
   "cell_type": "markdown",
   "id": "046d92a3",
   "metadata": {},
   "source": [
    "# What is difference between the list methods append() and insert()?"
   ]
  },
  {
   "cell_type": "markdown",
   "id": "30d6a2bd",
   "metadata": {},
   "source": [
    "insert function allows us to add a specific element at a specified index of the list unlike append() where we can add the element only at end of the list"
   ]
  },
  {
   "cell_type": "markdown",
   "id": "f4298861",
   "metadata": {},
   "source": [
    "# What are the two methods for removing items from a list?"
   ]
  },
  {
   "cell_type": "markdown",
   "id": "35c09700",
   "metadata": {},
   "source": [
    "remove(), pop() and clear()"
   ]
  },
  {
   "cell_type": "markdown",
   "id": "9a4c9766",
   "metadata": {},
   "source": [
    "# Describe how list values and string values are identical."
   ]
  },
  {
   "cell_type": "markdown",
   "id": "197a7775",
   "metadata": {},
   "source": [
    " Lists are mutable but Strings are immutable. Secondly, elements of a list can be of different types whereas a String only contains characters that are all of String type."
   ]
  },
  {
   "cell_type": "markdown",
   "id": "0752fcc0",
   "metadata": {},
   "source": [
    "# What's the difference between tuples and lists?"
   ]
  },
  {
   "cell_type": "markdown",
   "id": "712aeebb",
   "metadata": {},
   "source": [
    "tuples are immutable objects the lists are mutable. "
   ]
  },
  {
   "cell_type": "markdown",
   "id": "4fc242de",
   "metadata": {},
   "source": [
    "# How do you type a tuple value that only contains the integer 42?"
   ]
  },
  {
   "cell_type": "code",
   "execution_count": 15,
   "id": "1d66e46a",
   "metadata": {},
   "outputs": [],
   "source": [
    "(42,)"
   ]
  },
  {
   "cell_type": "markdown",
   "id": "2819cb34",
   "metadata": {},
   "source": [
    "# How do you get a list value's tuple form? How do you get a tuple value's list form?"
   ]
  },
  {
   "cell_type": "markdown",
   "id": "2a1ceaaf",
   "metadata": {},
   "source": [
    "List comprehension along with zip() function is used to convert the tuples to list and create a list of tuples."
   ]
  },
  {
   "cell_type": "markdown",
   "id": "e06bfb87",
   "metadata": {},
   "source": [
    "# Variables that \"contain\" list values are not necessarily lists themselves. Instead, what do they contain?"
   ]
  },
  {
   "cell_type": "markdown",
   "id": "5604ebaf",
   "metadata": {},
   "source": [
    "Variables will contain references to list values rather than list values themselves."
   ]
  },
  {
   "cell_type": "markdown",
   "id": "69c6ff36",
   "metadata": {},
   "source": [
    "# How do you distinguish between copy.copy() and copy.deepcopy()?"
   ]
  },
  {
   "cell_type": "markdown",
   "id": "fa40dd5d",
   "metadata": {},
   "source": [
    "A shallow copy constructs a new compound object and then (to the extent possible) inserts references into it to the objects found in the original.\n",
    "\n",
    "A deep copy constructs a new compound object and then, recursively, inserts copies into it of the objects found in the original."
   ]
  }
 ],
 "metadata": {
  "kernelspec": {
   "display_name": "Python 3 (ipykernel)",
   "language": "python",
   "name": "python3"
  },
  "language_info": {
   "codemirror_mode": {
    "name": "ipython",
    "version": 3
   },
   "file_extension": ".py",
   "mimetype": "text/x-python",
   "name": "python",
   "nbconvert_exporter": "python",
   "pygments_lexer": "ipython3",
   "version": "3.8.8"
  }
 },
 "nbformat": 4,
 "nbformat_minor": 5
}
