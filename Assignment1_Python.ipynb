{
 "cells": [
  {
   "cell_type": "markdown",
   "id": "c959efbb",
   "metadata": {},
   "source": [
    "# In the below elements which of them are values or an expression? eg:- values can be integer or string and expressions will be mathematical operators."
   ]
  },
  {
   "cell_type": "markdown",
   "id": "52dd923e",
   "metadata": {},
   "source": [
    "Ans:ALL"
   ]
  },
  {
   "cell_type": "markdown",
   "id": "63ab24f8",
   "metadata": {},
   "source": [
    "# What is the difference between string and variable?"
   ]
  },
  {
   "cell_type": "markdown",
   "id": "b3f5ace3",
   "metadata": {},
   "source": [
    "A string is a word written inside quotes and a variable can be a string ,int,float etc."
   ]
  },
  {
   "cell_type": "markdown",
   "id": "9f36d622",
   "metadata": {},
   "source": [
    "# What is an expression made up of? What do all expressions do?"
   ]
  },
  {
   "cell_type": "markdown",
   "id": "fbcbba2e",
   "metadata": {},
   "source": [
    "combinations of operators and operands is knows as expression.\n",
    "It performs different kind of mathematical operations"
   ]
  },
  {
   "cell_type": "markdown",
   "id": "ad91535c",
   "metadata": {},
   "source": [
    "# What is an expression made up of? What do all expressions do?"
   ]
  },
  {
   "cell_type": "markdown",
   "id": "673c7494",
   "metadata": {},
   "source": [
    "expression is a combination of values, variables, and operators.\n",
    "A statement is like creating a variable or displaying a value."
   ]
  },
  {
   "cell_type": "markdown",
   "id": "a76874d8",
   "metadata": {},
   "source": [
    "#  After running the following code, what does the variable bacon contain?\n",
    "bacon = 22,\n",
    "bacon + 1\n"
   ]
  },
  {
   "cell_type": "code",
   "execution_count": 2,
   "id": "975f225a",
   "metadata": {},
   "outputs": [],
   "source": [
    "bacon = 22"
   ]
  },
  {
   "cell_type": "code",
   "execution_count": 3,
   "id": "ccb86bb1",
   "metadata": {},
   "outputs": [
    {
     "data": {
      "text/plain": [
       "23"
      ]
     },
     "execution_count": 3,
     "metadata": {},
     "output_type": "execute_result"
    }
   ],
   "source": [
    "bacon + 1"
   ]
  },
  {
   "cell_type": "markdown",
   "id": "35f21d8d",
   "metadata": {},
   "source": [
    "#  What should the values of the following two terms be?\n",
    "'spam' + 'spamspam'\n",
    ",\n",
    "'spam' * 3\n"
   ]
  },
  {
   "cell_type": "markdown",
   "id": "c58696eb",
   "metadata": {},
   "source": [
    "Ans: Spamspamspam"
   ]
  },
  {
   "cell_type": "markdown",
   "id": "1d98a5e1",
   "metadata": {},
   "source": [
    "# Why is eggs a valid variable name while 100 is invalid?"
   ]
  },
  {
   "cell_type": "markdown",
   "id": "1ae81f3d",
   "metadata": {},
   "source": [
    "Ans:As per the proporties of variable , it should not start with a integer"
   ]
  },
  {
   "cell_type": "markdown",
   "id": "3a3a9c52",
   "metadata": {},
   "source": [
    "# What three functions can be used to get the integer, floating-point number, or string version of a value?"
   ]
  },
  {
   "cell_type": "markdown",
   "id": "0b9720bd",
   "metadata": {},
   "source": [
    "Ans:int(),float(),str()"
   ]
  },
  {
   "cell_type": "markdown",
   "id": "34f78a93",
   "metadata": {},
   "source": [
    "# Why does this expression cause an error? How can you fix it?\n",
    "#'I have eaten ' + 99 + ' burritos.'\n"
   ]
  },
  {
   "cell_type": "code",
   "execution_count": 9,
   "id": "fd50ac6b",
   "metadata": {},
   "outputs": [],
   "source": [
    "Ans:'I have eaten ' + '99' + ' burritos.'  \n",
    "    #we can not add string with integers"
   ]
  },
  {
   "cell_type": "code",
   "execution_count": null,
   "id": "748f46c3",
   "metadata": {},
   "outputs": [],
   "source": []
  },
  {
   "cell_type": "code",
   "execution_count": null,
   "id": "7d706e06",
   "metadata": {},
   "outputs": [],
   "source": []
  }
 ],
 "metadata": {
  "kernelspec": {
   "display_name": "Python 3",
   "language": "python",
   "name": "python3"
  },
  "language_info": {
   "codemirror_mode": {
    "name": "ipython",
    "version": 3
   },
   "file_extension": ".py",
   "mimetype": "text/x-python",
   "name": "python",
   "nbconvert_exporter": "python",
   "pygments_lexer": "ipython3",
   "version": "3.8.8"
  }
 },
 "nbformat": 4,
 "nbformat_minor": 5
}
